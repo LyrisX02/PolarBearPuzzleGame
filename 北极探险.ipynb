{
 "cells": [
  {
   "cell_type": "code",
   "execution_count": 206,
   "metadata": {},
   "outputs": [],
   "source": [
    "import numpy as np\n",
    "import random"
   ]
  },
  {
   "cell_type": "code",
   "execution_count": 14,
   "metadata": {},
   "outputs": [
    {
     "name": "stdout",
     "output_type": "stream",
     "text": [
      "[0, 0, 0, 0]\n",
      "[0, 0, 0, 0]\n"
     ]
    }
   ],
   "source": [
    "l_pieces = []\n",
    "L_pieces = []\n",
    "piece_l1= [\"w\", \"w\"]\n",
    "piece_l2 = [\"s\", \"w\"]\n",
    "piece_L1 = [[\"c\", 0], [\"s\", \"c\"]]\n",
    "piece_L2 = [[\"s\", 0],[\"c\", \"w\"]]\n",
    "piece_L3 = [[\"c\", 0],[\"w\", \"s\"]]\n",
    "piece_L4 = [[\"w\", 0],[\"c\", \"s\"]]\n",
    "\n",
    "l_pieces = [piece_l1, piece_l2]\n",
    "L_pieces = [piece_L1, piece_L2, piece_L3, piece_L4]\n",
    "\n",
    "half_board = 2*[4*[0]]\n",
    "for i in half_board:\n",
    "    print(i)\n"
   ]
  },
  {
   "cell_type": "code",
   "execution_count": null,
   "metadata": {},
   "outputs": [],
   "source": [
    "# generate all possible general positions\n",
    "# 0,0  0,1  0,2  0,3\n",
    "# 1,0  1,1  1,2  1,3\n",
    "\n",
    "# function for fitting a piece\n",
    "# [0,0], [0,1], [1,0]\n",
    "# [0,2], [1,1], [1,2]\n",
    "# [0,3], [1,3]\n",
    "\n",
    "# [0,0], [0,1], [1,0]\n",
    "# [0,2], [1,1], [1,2]\n",
    "# [0,3], [1,3]\n",
    "\n",
    "    "
   ]
  },
  {
   "cell_type": "code",
   "execution_count": 207,
   "metadata": {},
   "outputs": [],
   "source": [
    "# new game, board will be 5 x 5 for\n",
    "board_size = 6\n",
    "board = [ [0]*board_size for i in range(board_size)]\n",
    "\n",
    "#game pieces are L or I or []2x2\n",
    "\n",
    "piece_I = [[1, 1]]\n",
    "piece_Iflip = [[1],[1]]\n",
    "piece_L = [[1, 0], [1, 1]]\n",
    "piece_O = [[1,1],[1,1]]\n",
    "piece_J = [[1,0],[1,0],[1,1]]\n"
   ]
  },
  {
   "cell_type": "code",
   "execution_count": 209,
   "metadata": {},
   "outputs": [],
   "source": [
    "def rotate(piece, i):\n",
    "    newp = piece\n",
    "    for n in range(i):\n",
    "        newp = np.rot90(newp, k=1, axes=(1,0))\n",
    "    return(newp)\n"
   ]
  },
  {
   "cell_type": "code",
   "execution_count": 5,
   "metadata": {},
   "outputs": [
    {
     "data": {
      "text/plain": [
       "[[1], [1]]"
      ]
     },
     "execution_count": 5,
     "metadata": {},
     "output_type": "execute_result"
    }
   ],
   "source": [
    "piece_list = [0, 0, 0, 0, 1, 1, 1, 1, 2, 2, 2, 2, 2, 2, 2, 2, 3, 3, 3, 3, 3, 3, 3, 3, 4, 4, 4, 4, 4, 4 ,4, 4]\n",
    "pieces = [piece_I, piece_Iflip, piece_L, piece_O, piece_J]\n",
    "\n",
    "choice_ = random.choice(piece_list) \n",
    "pieces[choice_]\n",
    "\n"
   ]
  },
  {
   "cell_type": "code",
   "execution_count": 210,
   "metadata": {},
   "outputs": [],
   "source": [
    "def fit(piece, current_board, pos_x, pos_y):\n",
    "    height = len(piece)\n",
    "    width = len(piece[0])\n",
    "    for i in range(height):\n",
    "        for j in range(width):\n",
    "            current_board[pos_y + i][pos_x + j] += piece[i][j]\n",
    "    return(current_board)\n",
    "\n",
    "# need function to check for overlap\n",
    "def check_fit(piece, current_board, pos_x, pos_y):\n",
    "    height = len(piece)\n",
    "    width = len(piece[0])\n",
    "    blocks = 0\n",
    "    for i in range(height):\n",
    "        for j in range(width):\n",
    "            if current_board[pos_y + i][pos_x + j] == 1 and piece[i][j] == 1:\n",
    "                blocks += 1\n",
    "    if blocks != 0:\n",
    "        return(False)\n",
    "    else:\n",
    "        return(True)\n",
    "\n",
    "# checks if there are any holes in the whole map \n",
    "def check_legal():\n",
    "    each_check = 0\n",
    "    for i in range(board_size):\n",
    "        for j in range(board_size):\n",
    "            \n",
    "            if board[i][j] == 0:\n",
    "                a = \"t\"\n",
    "                b = \"t\"\n",
    "                c = \"t\"\n",
    "                d = \"t\"\n",
    "                if i == board_size - 1:\n",
    "                    a = \"f\"\n",
    "                elif board[i+1][j] == 1:\n",
    "                    a = \"f\"\n",
    "                if i == 0:\n",
    "                    b = \"f\"\n",
    "                elif board[i-1][j] == 1:\n",
    "                    b = \"f\"\n",
    "        \n",
    "                if j == board_size - 1:\n",
    "                    c = \"f\"\n",
    "                elif board[i][j+1] == 1:\n",
    "                    c = \"f\"\n",
    "                if j == 0:\n",
    "                    d = \"f\"\n",
    "                elif board[i][j-1] == 1:\n",
    "                    d = \"f\"\n",
    "\n",
    "                if(a == \"f\" and b == \"f\" and c == \"f\" and d == \"f\"):\n",
    "                    each_check += 1\n",
    "                    \n",
    "        \n",
    "    if each_check != 0:\n",
    "        return(False)\n",
    "    else:\n",
    "        return(True)"
   ]
  },
  {
   "cell_type": "code",
   "execution_count": 211,
   "metadata": {},
   "outputs": [
    {
     "name": "stdout",
     "output_type": "stream",
     "text": [
      "True\n"
     ]
    },
    {
     "data": {
      "text/plain": [
       "[[0, 0, 0, 0, 0, 0],\n",
       " [0, 0, 0, 0, 0, 0],\n",
       " [0, 0, 0, 0, 0, 0],\n",
       " [0, 0, 0, 0, 0, 0],\n",
       " [0, 0, 0, 0, 0, 0],\n",
       " [0, 0, 0, 0, 0, 0]]"
      ]
     },
     "execution_count": 211,
     "metadata": {},
     "output_type": "execute_result"
    }
   ],
   "source": [
    "choice_ = random.choice(piece_list) \n",
    "p = pieces[choice_]\n",
    "\n",
    "nw = rotate(piece_L, 2)\n",
    "#board = fit(nw, board, 0,0)\n",
    "print(check_fit(nw, board, 0,0))\n",
    "board\n",
    "\n"
   ]
  },
  {
   "cell_type": "code",
   "execution_count": null,
   "metadata": {},
   "outputs": [],
   "source": [
    "#put all three functions tog, first places hypothetically, \n",
    "# then checks for overlap and legal (returns false )\n",
    "# if passes all checks then returns true \n",
    "# now we have the positions and all the available  pieces/ rotations\n",
    "# then random selection with out of hat distribution\n"
   ]
  },
  {
   "cell_type": "code",
   "execution_count": null,
   "metadata": {},
   "outputs": [],
   "source": []
  },
  {
   "cell_type": "code",
   "execution_count": 225,
   "metadata": {},
   "outputs": [],
   "source": [
    "def check_all(piece, board, pos_x, pos_y):\n",
    "    current_board = board.copy()\n",
    "    height = len(piece)\n",
    "    width = len(piece[0])\n",
    "    blocks = 0\n",
    "    for i in range(height):\n",
    "        for j in range(width):\n",
    "            if board[pos_y + i][pos_x + j] == 1 and piece[i][j] == 1:\n",
    "                return(False)\n",
    "            else:\n",
    "                current_board[pos_y + i][pos_x + j] += piece[i][j]\n",
    "    print(board)            \n",
    "    for i in range(board_size):\n",
    "        for j in range(board_size):\n",
    "            \n",
    "            if current_board[i][j] == 0:\n",
    "                a = \"t\"\n",
    "                b = \"t\"\n",
    "                c = \"t\"\n",
    "                d = \"t\"\n",
    "                if i == board_size - 1:\n",
    "                    a = \"f\"\n",
    "                elif current_board[i+1][j] == 1:\n",
    "                    a = \"f\"\n",
    "                if i == 0:\n",
    "                    b = \"f\"\n",
    "                elif current_board[i-1][j] == 1:\n",
    "                    b = \"f\"\n",
    "        \n",
    "                if j == board_size - 1:\n",
    "                    c = \"f\"\n",
    "                elif current_board[i][j+1] == 1:\n",
    "                    c = \"f\"\n",
    "                if j == 0:\n",
    "                    d = \"f\"\n",
    "                elif current_board[i][j-1] == 1:\n",
    "                    d = \"f\"\n",
    "\n",
    "                if(a == \"f\" and b == \"f\" and c == \"f\" and d == \"f\"):\n",
    "                    blocks += 1\n",
    "        \n",
    "    if blocks != 0:\n",
    "        return(False)\n",
    "    else:\n",
    "        return(True)\n",
    "                \n",
    "            "
   ]
  },
  {
   "cell_type": "code",
   "execution_count": 226,
   "metadata": {},
   "outputs": [],
   "source": [
    "board_size = 6\n",
    "board = [ [0]*board_size for i in range(board_size)]"
   ]
  },
  {
   "cell_type": "code",
   "execution_count": 228,
   "metadata": {},
   "outputs": [
    {
     "name": "stdout",
     "output_type": "stream",
     "text": [
      "[0, 0, 0, 0, 0, 0]\n",
      "[0, 1, 1, 0, 0, 0]\n",
      "[0, 0, 0, 0, 0, 0]\n",
      "[0, 0, 0, 0, 0, 0]\n",
      "[0, 0, 0, 0, 0, 0]\n",
      "[0, 0, 0, 0, 0, 0]\n",
      "False\n",
      "[0, 0, 0, 0, 0, 0]\n",
      "[0, 1, 1, 0, 0, 0]\n",
      "[0, 0, 0, 0, 0, 0]\n",
      "[0, 0, 0, 0, 0, 0]\n",
      "[0, 0, 0, 0, 0, 0]\n",
      "[0, 0, 0, 0, 0, 0]\n"
     ]
    }
   ],
   "source": [
    "\n",
    "nw = rotate(piece_L, 0)\n",
    "for i in board:\n",
    "    print(i)\n",
    "print(check_all(piece_I, board, 1,1))\n",
    "for i in board:\n",
    "    print(i)\n"
   ]
  }
 ],
 "metadata": {
  "kernelspec": {
   "display_name": "base",
   "language": "python",
   "name": "python3"
  },
  "language_info": {
   "codemirror_mode": {
    "name": "ipython",
    "version": 3
   },
   "file_extension": ".py",
   "mimetype": "text/x-python",
   "name": "python",
   "nbconvert_exporter": "python",
   "pygments_lexer": "ipython3",
   "version": "3.10.9"
  },
  "orig_nbformat": 4
 },
 "nbformat": 4,
 "nbformat_minor": 2
}
